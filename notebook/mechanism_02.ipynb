{
 "cells": [
  {
   "cell_type": "markdown",
   "id": "a93d5505",
   "metadata": {},
   "source": [
    "# Issue to Resolve\n",
    "\n",
    "(((The EventLogger previously was being passed around as a global variable, which is not optimal. All classes should be subclasses of EventLogger I think, and all Owner objects should be subclasses of ERC721. Still not quite correct.))) <- Wrong\n",
    "\n"
   ]
  },
  {
   "cell_type": "code",
   "execution_count": 1,
   "id": "9c6175b7",
   "metadata": {},
   "outputs": [],
   "source": [
    "from datetime import datetime"
   ]
  },
  {
   "cell_type": "code",
   "execution_count": 2,
   "id": "5a350f28",
   "metadata": {},
   "outputs": [],
   "source": [
    "# nftCollection = {}\n",
    "\n",
    "class Eth:\n",
    "    def __init__(self, amount):\n",
    "        self.amount = amount\n",
    "    \n",
    "    def __add__(self, eth):\n",
    "        self.amount += eth.amount\n",
    "        return self\n",
    "    \n",
    "    def __sub__(self, eth):\n",
    "        self.amount -= eth.amount\n",
    "        return self\n",
    "    \n",
    "    def __neg__(self):\n",
    "        return -self.amount\n",
    "    \n",
    "    def __pos__(self):\n",
    "        return +self.amount\n",
    "    \n",
    "    def __repr__(self):\n",
    "        return f\"\\N{greek capital letter xi}{self.amount}\"\n",
    "    \n",
    "\n",
    "class Nft:\n",
    "    def __init__(self, nftId, price, data, owner, contract):\n",
    "        self.nftId = nftId\n",
    "        self.price = price\n",
    "        self.data = data\n",
    "        self.owner = owner\n",
    "        self.contract = contract\n",
    "    \n",
    "    @property\n",
    "    def contractName(self):\n",
    "        return self.contract._name\n",
    "    \n",
    "    @property\n",
    "    def contractType(self):\n",
    "        return type(self.contract).__name__\n",
    "    \n",
    "    def __repr__(self):\n",
    "        return f\"Nft({self.nftId}, {self.price}, {self.data}, {self.owner}, {self.contractName}, {self.contractType})\"\n",
    "    \n",
    "    def __str__(self):\n",
    "        return f\"Nft({self.nftId})\"\n",
    "        \n",
    "class Owner:\n",
    "    def __init__(self, address, *args):\n",
    "        self.address = '0X' + address # this is a string, not a hash\n",
    "        nfts = set(filter(lambda x: type(x).__name__ == \"Nft\",args))\n",
    "        ethSet = set(filter(lambda x: type(x).__name__ == \"Eth\",args))\n",
    "        self.eth = Eth(0)\n",
    "        for ethEl in ethSet:\n",
    "            self.eth += ethEl\n",
    "        self.isLender = False\n",
    "        self.isOwed = 0.\n",
    "        self.isBorrower = False\n",
    "        self.owes = 0.\n",
    "        self.eventLogger = EventLogger()\n",
    "        if 'LISTOFALLCONTRACTS' not in globals():\n",
    "            globals()['LISTOFALLCONTRACTS'] = []\n",
    "        for nft in nfts:\n",
    "            self.setInitialOwner(self.address,nft)\n",
    "    \n",
    "    @property\n",
    "    def assets(self):\n",
    "        return set(self.nfts).union({self.eth})\n",
    "    \n",
    "    @property\n",
    "    def log(self):\n",
    "        return self.eventLogger.log\n",
    "    \n",
    "    @property\n",
    "    def nfts(self):\n",
    "        nftStringsList = []\n",
    "        for contractType in globals()['LISTOFALLCONTRACTS']:\n",
    "            contracts = [k for k,v in globals().items() if type(v).__name__ == contractType]\n",
    "            for contract in contracts:\n",
    "                nftStringsList += [k for k,v in globals()[contract]._owners.items() if v == self.address]\n",
    "        allNfts = [globals()[k] for k,v in globals().items() if type(v).__name__ == 'Nft']\n",
    "        myNfts = [_ for _ in allNfts if _.nftId in nftStringsList]\n",
    "        return myNfts\n",
    "    \n",
    "    def __add__(self, nft):\n",
    "        currOwnerAddr = nft.owner\n",
    "        if not currOwnerAddr:\n",
    "            self.setInitialOwner(self.address,nft)\n",
    "        else:\n",
    "            self.approve(currOwnerAddr,nft)\n",
    "            self.transferFrom(currOwnerAddr,self.address,nft)\n",
    "    \n",
    "    def __sub__(self, nft):\n",
    "        self.burn(nft)\n",
    "    \n",
    "    def __contains__(self, asset):\n",
    "        return asset in self.assets\n",
    "    \n",
    "    def __repr__(self):\n",
    "        return f\"Owner({self.address},{self.assets},{self.isLender},{self.isOwed},{self.isBorrower},{self.owes})\"\n",
    "    \n",
    "    def __str__(self):\n",
    "        return f\"Owner({self.address})\"\n",
    "    \n",
    "    def emit(self, *args):\n",
    "        self.eventLogger.emit(*args)\n",
    "    \n",
    "    def approve(self, to, nft):\n",
    "        #self.eventLogger.emit('Approval',str(self),ERC721Name)\n",
    "        self.emit('Approval',str(self),nft.contractType,nft.contractName)\n",
    "        theContract = self.getContract(nft)\n",
    "        globals()[theContract].approve(to, nft.nftId, str(self))\n",
    "    \n",
    "    def transferFrom(self,addrFrom,to,nft):\n",
    "        #self.eventLogger.emit('Transfer', addrFrom, to, nftId)\n",
    "        self.emit('Transfer', addrFrom, to, nft.nftId)\n",
    "        theContract = self.getContract(nft)\n",
    "        globals()[theContract].transferFrom(addrFrom,to,nft.nftId,self.address)\n",
    "    \n",
    "    def getContract(self, nft):\n",
    "        contractKeys = [k for k,v in dict(globals()).items() if type(v).__name__ == nft.contractType]\n",
    "        assert len(contractKeys) > 0, \"No ERC721 contracts have been created.\"\n",
    "        theContract = list(filter(lambda x: globals()[x]._name == nft.contractName, contractKeys))[0]\n",
    "        return theContract\n",
    "    \n",
    "    def setInitialOwner(self, to, nft):\n",
    "        #self.eventLogger.emit('Transfer',to,nftId,ERC721Name)\n",
    "        self.emit('SetInitialOwner',to,nft.nftId,nft.contractType,nft.contractName)\n",
    "        theContract = self.getContract(nft)\n",
    "        globals()[theContract].setInitialOwner(to,nft.nftId,str(self))\n",
    "    \n",
    "    def setInitialOwners(self, toList, nfts):\n",
    "        #self.eventLogger.emit('Transfer',to,nftId,ERC721Name)\n",
    "        nftIds = [_.nftId for _ in nfts]\n",
    "        contractTypes = [_.contractType for _ in nfts]\n",
    "        contractNames = [_.contractNames for _ in nfts]\n",
    "        self.emit('SetInitialOwners',toList,nftIds,nftContracts,nftNames)\n",
    "        theContracts = [self.getContract(_) for _ in contractNames]\n",
    "        for theContract in list(set(theContracts)):\n",
    "            contractIdxs = np.where(theContracts == theContract)\n",
    "            currToList = np.array(toList)[contractIdxs]\n",
    "            nftIds = np.array(nftIds)[contractIdxs]\n",
    "            globals()[theContract].setInitialOwners(toList,nftIds,str(self))\n",
    "    \n",
    "    def burn(self,nft):\n",
    "        self.emit('Burn',nft.nftId,nft.contractType,nft.contractName)\n",
    "        theContract = self.getContract(nft)\n",
    "        globals()[theContract]._burn(nft.nftId,str(self))\n",
    "            \n",
    "class EventLogger:\n",
    "    def __init__(self):\n",
    "        self.log = {}\n",
    "        self.activeClasses = []\n",
    "    \n",
    "    def __iadd__(self, c):\n",
    "        if str(c) not in self.activeClasses:\n",
    "            self.activeClasses.append(str(c))\n",
    "    \n",
    "    @property\n",
    "    def events(self):\n",
    "        return list(self.log.keys())\n",
    "    \n",
    "    def emit(self,eventName,eventCaller,eventResponder,*args):\n",
    "        #time, #type of event, #parameters\n",
    "        currTime = datetime.now().strftime('%Y/%M/%d %H:%M:%S')\n",
    "        result = [eventName, eventCaller, eventResponder, currTime, *args]\n",
    "        if eventName not in self.log.keys():\n",
    "            self.log[eventName] = [result]\n",
    "        else:\n",
    "            self.log[eventName] += [result]\n",
    "    \n",
    "    def __repr__(self):\n",
    "        return f\"EventLogger({self.log},{self.activeClasses})\"\n",
    "\n",
    "class ERC721:\n",
    "    def __init__(self, name_, symbol_):\n",
    "        self._name = name_\n",
    "        self._symbol = symbol_\n",
    "        self._owners = {}\n",
    "        self._balances = {}\n",
    "        self._tokenApprovals = {}\n",
    "        self._operatorApprovals = {}\n",
    "        self.eventLogger = EventLogger()\n",
    "        self.allTokensAssigned = False\n",
    "        self.nftsRemainingToAssign = 10000\n",
    "        if 'LISTOFALLCONTRACTS' not in globals():\n",
    "            globals()['LISTOFALLCONTRACTS'] = ['ERC721']\n",
    "        elif 'ERC721' not in globals()['LISTOFALLCONTRACTS']:\n",
    "            globals()['LISTOFALLCONTRACTS'] += ['ERC721']\n",
    "    \n",
    "    @property\n",
    "    def log(self):\n",
    "        return self.eventLogger.log\n",
    "    \n",
    "    def __repr__(self):\n",
    "        return f\"ERC721({self._name}, {self._symbol}, {self._owners}, {self._balances}, {self._tokenApprovals}, {self._operatorApprovals}, {self.eventLogger}, {self.allTokensAssigned})\"\n",
    "    \n",
    "    def __str__(self):\n",
    "        return f\"ERC721({self._name})\"\n",
    "    \n",
    "    def _exists(self, nftId):\n",
    "        return nftId in self._owners.keys()\n",
    "    \n",
    "    def balanceOf(self, ownerAddress):\n",
    "        if ownerAddress in self._balances.keys():\n",
    "            return self._balances[ownerAddress]\n",
    "        return None\n",
    "    \n",
    "    def ownerOf(self, nftId):\n",
    "        if self._exists(nftId):\n",
    "            return self._owners[nftId]\n",
    "        return None\n",
    "    \n",
    "    def _approve(self, to, nftId):\n",
    "        self._tokenApprovals[nftId] = to\n",
    "        #self.eventLogger.emit(\"Approval\",self.ownerOf(nftId), to, nftId)\n",
    "        self.emit(\"Approval\",self.ownerOf(nftId), to, nftId)\n",
    "    \n",
    "    def approve(self, to, nftId, msgSender):\n",
    "        owner = self.ownerOf(nftId)\n",
    "        assert owner != to, \"ERC721: approve caller is not owner nor approved for all\"\n",
    "        #assert msgSender == owner | isApprovedForAll(owner, msgSender), \"Error\"\n",
    "        self._approve(to, nftId)\n",
    "    \n",
    "    def isApprovedForAll(self,owner,operator):\n",
    "        if owner in self._operatorApprovals.keys():\n",
    "            return operator in self._operatorApprovals[owner].keys()\n",
    "        return False\n",
    "    \n",
    "    def transferFrom(self,addrFrom,to,nftId,msgSender):\n",
    "        assert self._isApprovedOrOwner(msgSender, nftId), \"ERC721: transfer caller is not owner nor approved\"\n",
    "        self._transfer(addrFrom, to, nftId)\n",
    "    \n",
    "    def _isApprovedOrOwner(self, spender, nftId):\n",
    "        assert self._exists(nftId), \"ERC721: operator query for nonexistent token\"\n",
    "        owner = self.ownerOf(nftId)\n",
    "        print(f'{spender=}, {nftId=}, {owner=}')\n",
    "        print((spender == owner), (self.getApproved(nftId) == spender))\n",
    "        return (spender == owner) | (self.getApproved(nftId) == spender) | (self.isApprovedForAll(owner, spender))\n",
    "    \n",
    "    def getApproved(self, nftId):\n",
    "        assert self._exists(nftId), \"ERC721: approved query for nonexistent token\"\n",
    "        return nftId in self._tokenApprovals.keys();\n",
    "    \n",
    "    def _transfer(self, addrFrom, to, nftId):\n",
    "        assert self.ownerOf(nftId) == addrFrom, \"ERC721: transfer from incorrect owner\"\n",
    "        assert to != None, \"ERC721: transfer to the zero address\"\n",
    "        self._beforeTokenTransfer(addrFrom, to, nftId)\n",
    "        self._approve(None, nftId)\n",
    "        self._balances[addrFrom] -= 1\n",
    "        self._balances[to] += 1\n",
    "        self._owners[nftId] = to\n",
    "        #self.eventLogger.emit(\"Transfer\",addrFrom, to, nftId)\n",
    "        self.emit(\"Transfer\",addrFrom, to, nftId)\n",
    "        self._afterTokenTransfer(addrFrom, to, nftId)\n",
    "    \n",
    "    def _afterTokenTransfer(self, addrFrom, to, nftId):\n",
    "        pass\n",
    "    \n",
    "    def _safeMint(self, to, nftId, _data=\"\"):\n",
    "        self._mint(to, nftId)\n",
    "        assert self._checkOnERC721Received(None, to, nftId, _data), \"ERC721: transfer to non ERC721Receiver implementer\"\n",
    "    \n",
    "    def _checkOnERC721Received(self, addrFrom, to, nftId, _data):\n",
    "        #Add in later\n",
    "        return True\n",
    "    \n",
    "    def _mint(self, to, nftId):\n",
    "        assert to != None, \"ERC721: mint to the zero address\"\n",
    "        assert not self._exists(nftId), \"ERC721: token already minted\"\n",
    "        self._beforeTokenTransfer(None, to, nftId)\n",
    "        if to not in self._balances.keys():\n",
    "            self._balances[to] = 0\n",
    "        self._balances[to] += 1\n",
    "        self._owners[nftId] = to\n",
    "        #self.eventLogger.emit(\"Transfer\",None, to, nftId)\n",
    "        self.emit(\"Transfer\",None, to, nftId)\n",
    "        self._afterTokenTransfer(None, to, nftId)\n",
    "    \n",
    "    def _beforeTokenTransfer(self, addrFrom, to, nftId):\n",
    "        pass\n",
    "    \n",
    "    def _afterTokenTransfer(self, addrFrom, to, nftId):\n",
    "        pass\n",
    "    \n",
    "    def setInitialOwner(self, to, nftId, msgSender):\n",
    "        self.emit(\"Mint\",msgSender,to,nftId)\n",
    "        self._mint(to, nftId)\n",
    "    \n",
    "    def setInitialOwners(self, toList, nftIds, msgSender):\n",
    "        [self.setInitialOwner(to, nftId, msgSender) for to,nftId in zip(toList,nftIds)]\n",
    "    \n",
    "    def emit(self,*args):\n",
    "        self.eventLogger.emit(*args)\n",
    "    \n",
    "    def _burn(self, nftId, msgSender):\n",
    "        owner = self.ownerOf(nftId)\n",
    "        self._beforeTokenTransfer(owner, None, nftId)\n",
    "        \n",
    "        self._approve(None, nftId)\n",
    "        \n",
    "        self._balances[owner] -= 1\n",
    "        del self._owners[nftId]\n",
    "        \n",
    "        self.emit(\"Transfer\", msgSender, owner, None, nftId)\n",
    "        \n",
    "        self._afterTokenTransfer(owner, None, nftId)\n",
    "\n",
    "\n",
    "# class N3RP:\n",
    "#     def __init__(self, contractId, lender, lentAsset, beginPeriod, endPeriod):\n",
    "#         if lentAsset not in lender:\n",
    "#             raise ValueError(f\"Lent asset {lentAsset} not in lender {lender}.\")\n",
    "#         self.contractId = contractId\n",
    "#         self.lender = lender\n",
    "#         self.lentAsset = lentAsset\n",
    "#         self.beginPeriod = beginPeriod\n",
    "#         self.endPeriod = endPeriod\n",
    "#         self.borrower = None\n",
    "#         self.collateralAsset = None\n",
    "    \n",
    "#     def __call__(self, borrower, collateralAsset):\n",
    "#         if collateralAsset not in borrower:\n",
    "#             raise ValueError(f\"Collateral asset {collateralAsset} not in borrower {borrower}.\")\n",
    "        \n",
    "#         #Is the collateral an nft? Or straight up eth.\n",
    "        \n",
    "#         self.lender.isLender = True\n",
    "#         self.lender.isOwed = lentAsset.price\n",
    "        \n",
    "#         self.borrower = borrower\n",
    "#         self.collateralAsset = collateralAssert\n",
    "#         self.borrower.isBorrower = True\n",
    "#         self.borrower.owes = self.lentAsset.price\n",
    "        \n",
    "        "
   ]
  },
  {
   "cell_type": "code",
   "execution_count": 37,
   "id": "67c36cff",
   "metadata": {},
   "outputs": [],
   "source": [
    "class Address:\n",
    "    def __init__(self, name):\n",
    "        self.name = name\n",
    "\n",
    "class N3RP:\n",
    "    def __init__(self,\n",
    "                 lenderAddr: Address,\n",
    "                 borrowerAddr: Address,\n",
    "                 initiatorAddr: Address,\n",
    "                 nftAddr: Address,\n",
    "                 basePayment: Eth,\n",
    "                 collateral: Eth,\n",
    "                 rentalDueDate: str, #Will be a ethereum blocktime, in reality\n",
    "                 collateralPayoutPeriod: str, #Will be an integer number of blocks, in reality\n",
    "                ):\n",
    "        self.lender = lender\n",
    "        self.borrower = borrower\n",
    "        self.roleOfInitiator = roleOfInitiator\n",
    "        self.nft = nft\n",
    "        self.basePayment = basePayment\n",
    "        self.collateral = collateral\n",
    "        self.rentalDueDate = rentalDueDate\n",
    "        self.collateralPayoutPeriod = collateralPayoutPeriod\n",
    "        self.nftIsDeposited = False\n",
    "        self.ethIsDeposited = False\n",
    "    \n",
    "    def depositNft(self, nftAddr: Address, msgSender: Address):\n",
    "        assert self.lenderAddr == msgLender, f\"Deposit Error: sender {msgSender} is not lender {self.lenderAddr}\"\n",
    "        assert self.nftAddr == nftAddr, f\"Deposit Error: deposited nft {nftAddr} does not match the stipulated nft {self.nftAddr}\"\n",
    "        self.nftIsDeposited = True\n",
    "    \n",
    "    def depositEth(self, basePayment: Eth, collateral: Eth, depositorAddr: Address):\n",
    "        pass\n",
    "    "
   ]
  },
  {
   "cell_type": "code",
   "execution_count": null,
   "id": "475a270b",
   "metadata": {},
   "outputs": [],
   "source": []
  },
  {
   "cell_type": "code",
   "execution_count": null,
   "id": "7c92cb3a",
   "metadata": {},
   "outputs": [],
   "source": []
  },
  {
   "cell_type": "code",
   "execution_count": null,
   "id": "175707c7",
   "metadata": {},
   "outputs": [],
   "source": []
  },
  {
   "cell_type": "code",
   "execution_count": null,
   "id": "3ef7cc12",
   "metadata": {},
   "outputs": [],
   "source": []
  },
  {
   "cell_type": "code",
   "execution_count": null,
   "id": "6a1f8b25",
   "metadata": {},
   "outputs": [],
   "source": []
  },
  {
   "cell_type": "code",
   "execution_count": 3,
   "id": "ebde531e",
   "metadata": {},
   "outputs": [],
   "source": [
    "theERC721 = ERC721('CryptoPunks', 'CRYPTOPUNKS')\n",
    "\n",
    "nft1 = Nft('JjCoin', 100, 'asdf123', '', theERC721)\n",
    "nft2 = Nft('GgCoin', 1000, 'fdsa321', '', theERC721)\n",
    "owner1 = Owner('Gg')\n",
    "owner2 = Owner('Jj')\n",
    "owner3 = Owner('xXxCryptoLordxXx')\n",
    "# owner3.approve(owner2.address,nft2.nftId,'CryptoPunks')"
   ]
  },
  {
   "cell_type": "code",
   "execution_count": 6,
   "id": "3b4248e7",
   "metadata": {},
   "outputs": [],
   "source": [
    "owner3.setInitialOwner(owner1.address,nft1)"
   ]
  },
  {
   "cell_type": "code",
   "execution_count": 13,
   "id": "bb6baff8",
   "metadata": {},
   "outputs": [],
   "source": [
    "owner1.setInitialOwner(owner1.address,nft2)"
   ]
  },
  {
   "cell_type": "code",
   "execution_count": 15,
   "id": "41a97b36",
   "metadata": {},
   "outputs": [
    {
     "data": {
      "text/plain": [
       "[Nft(JjCoin, 100, asdf123, , CryptoPunks, ERC721),\n",
       " Nft(GgCoin, 1000, fdsa321, , CryptoPunks, ERC721)]"
      ]
     },
     "execution_count": 15,
     "metadata": {},
     "output_type": "execute_result"
    }
   ],
   "source": [
    "owner1.nfts"
   ]
  },
  {
   "cell_type": "code",
   "execution_count": null,
   "id": "d5e08ac3",
   "metadata": {},
   "outputs": [],
   "source": [
    "owner2.nfts"
   ]
  },
  {
   "cell_type": "code",
   "execution_count": null,
   "id": "b204fbd3",
   "metadata": {},
   "outputs": [],
   "source": [
    "owner3.nfts"
   ]
  },
  {
   "cell_type": "code",
   "execution_count": 11,
   "id": "9487ce30",
   "metadata": {},
   "outputs": [],
   "source": [
    "owner2.approve(owner2.address,nft1)"
   ]
  },
  {
   "cell_type": "code",
   "execution_count": 30,
   "id": "0ae4b8e9",
   "metadata": {},
   "outputs": [
    {
     "ename": "AssertionError",
     "evalue": "ERC721: operator query for nonexistent token",
     "output_type": "error",
     "traceback": [
      "\u001b[1;31m---------------------------------------------------------------------------\u001b[0m",
      "\u001b[1;31mAssertionError\u001b[0m                            Traceback (most recent call last)",
      "\u001b[1;32m~\\AppData\\Local\\Temp/ipykernel_7716/1417546644.py\u001b[0m in \u001b[0;36m<module>\u001b[1;34m\u001b[0m\n\u001b[1;32m----> 1\u001b[1;33m \u001b[0mowner3\u001b[0m\u001b[1;33m.\u001b[0m\u001b[0mtransferFrom\u001b[0m\u001b[1;33m(\u001b[0m\u001b[0mowner1\u001b[0m\u001b[1;33m.\u001b[0m\u001b[0maddress\u001b[0m\u001b[1;33m,\u001b[0m\u001b[0mowner2\u001b[0m\u001b[1;33m.\u001b[0m\u001b[0maddress\u001b[0m\u001b[1;33m,\u001b[0m\u001b[0mnft1\u001b[0m\u001b[1;33m)\u001b[0m\u001b[1;33m\u001b[0m\u001b[1;33m\u001b[0m\u001b[0m\n\u001b[0m",
      "\u001b[1;32m~\\AppData\\Local\\Temp/ipykernel_7716/2177205268.py\u001b[0m in \u001b[0;36mtransferFrom\u001b[1;34m(self, addrFrom, to, nft)\u001b[0m\n\u001b[0;32m    115\u001b[0m         \u001b[0mself\u001b[0m\u001b[1;33m.\u001b[0m\u001b[0memit\u001b[0m\u001b[1;33m(\u001b[0m\u001b[1;34m'Transfer'\u001b[0m\u001b[1;33m,\u001b[0m \u001b[0maddrFrom\u001b[0m\u001b[1;33m,\u001b[0m \u001b[0mto\u001b[0m\u001b[1;33m,\u001b[0m \u001b[0mnft\u001b[0m\u001b[1;33m.\u001b[0m\u001b[0mnftId\u001b[0m\u001b[1;33m)\u001b[0m\u001b[1;33m\u001b[0m\u001b[1;33m\u001b[0m\u001b[0m\n\u001b[0;32m    116\u001b[0m         \u001b[0mtheContract\u001b[0m \u001b[1;33m=\u001b[0m \u001b[0mself\u001b[0m\u001b[1;33m.\u001b[0m\u001b[0mgetContract\u001b[0m\u001b[1;33m(\u001b[0m\u001b[0mnft\u001b[0m\u001b[1;33m)\u001b[0m\u001b[1;33m\u001b[0m\u001b[1;33m\u001b[0m\u001b[0m\n\u001b[1;32m--> 117\u001b[1;33m         \u001b[0mglobals\u001b[0m\u001b[1;33m(\u001b[0m\u001b[1;33m)\u001b[0m\u001b[1;33m[\u001b[0m\u001b[0mtheContract\u001b[0m\u001b[1;33m]\u001b[0m\u001b[1;33m.\u001b[0m\u001b[0mtransferFrom\u001b[0m\u001b[1;33m(\u001b[0m\u001b[0maddrFrom\u001b[0m\u001b[1;33m,\u001b[0m\u001b[0mto\u001b[0m\u001b[1;33m,\u001b[0m\u001b[0mnft\u001b[0m\u001b[1;33m.\u001b[0m\u001b[0mnftId\u001b[0m\u001b[1;33m,\u001b[0m\u001b[0mself\u001b[0m\u001b[1;33m.\u001b[0m\u001b[0maddress\u001b[0m\u001b[1;33m)\u001b[0m\u001b[1;33m\u001b[0m\u001b[1;33m\u001b[0m\u001b[0m\n\u001b[0m\u001b[0;32m    118\u001b[0m \u001b[1;33m\u001b[0m\u001b[0m\n\u001b[0;32m    119\u001b[0m     \u001b[1;32mdef\u001b[0m \u001b[0mgetContract\u001b[0m\u001b[1;33m(\u001b[0m\u001b[0mself\u001b[0m\u001b[1;33m,\u001b[0m \u001b[0mnft\u001b[0m\u001b[1;33m)\u001b[0m\u001b[1;33m:\u001b[0m\u001b[1;33m\u001b[0m\u001b[1;33m\u001b[0m\u001b[0m\n",
      "\u001b[1;32m~\\AppData\\Local\\Temp/ipykernel_7716/2177205268.py\u001b[0m in \u001b[0;36mtransferFrom\u001b[1;34m(self, addrFrom, to, nftId, msgSender)\u001b[0m\n\u001b[0;32m    228\u001b[0m \u001b[1;33m\u001b[0m\u001b[0m\n\u001b[0;32m    229\u001b[0m     \u001b[1;32mdef\u001b[0m \u001b[0mtransferFrom\u001b[0m\u001b[1;33m(\u001b[0m\u001b[0mself\u001b[0m\u001b[1;33m,\u001b[0m\u001b[0maddrFrom\u001b[0m\u001b[1;33m,\u001b[0m\u001b[0mto\u001b[0m\u001b[1;33m,\u001b[0m\u001b[0mnftId\u001b[0m\u001b[1;33m,\u001b[0m\u001b[0mmsgSender\u001b[0m\u001b[1;33m)\u001b[0m\u001b[1;33m:\u001b[0m\u001b[1;33m\u001b[0m\u001b[1;33m\u001b[0m\u001b[0m\n\u001b[1;32m--> 230\u001b[1;33m         \u001b[1;32massert\u001b[0m \u001b[0mself\u001b[0m\u001b[1;33m.\u001b[0m\u001b[0m_isApprovedOrOwner\u001b[0m\u001b[1;33m(\u001b[0m\u001b[0mmsgSender\u001b[0m\u001b[1;33m,\u001b[0m \u001b[0mnftId\u001b[0m\u001b[1;33m)\u001b[0m\u001b[1;33m,\u001b[0m \u001b[1;34m\"ERC721: transfer caller is not owner nor approved\"\u001b[0m\u001b[1;33m\u001b[0m\u001b[1;33m\u001b[0m\u001b[0m\n\u001b[0m\u001b[0;32m    231\u001b[0m         \u001b[0mself\u001b[0m\u001b[1;33m.\u001b[0m\u001b[0m_transfer\u001b[0m\u001b[1;33m(\u001b[0m\u001b[0maddrFrom\u001b[0m\u001b[1;33m,\u001b[0m \u001b[0mto\u001b[0m\u001b[1;33m,\u001b[0m \u001b[0mnftId\u001b[0m\u001b[1;33m)\u001b[0m\u001b[1;33m\u001b[0m\u001b[1;33m\u001b[0m\u001b[0m\n\u001b[0;32m    232\u001b[0m \u001b[1;33m\u001b[0m\u001b[0m\n",
      "\u001b[1;32m~\\AppData\\Local\\Temp/ipykernel_7716/2177205268.py\u001b[0m in \u001b[0;36m_isApprovedOrOwner\u001b[1;34m(self, spender, nftId)\u001b[0m\n\u001b[0;32m    232\u001b[0m \u001b[1;33m\u001b[0m\u001b[0m\n\u001b[0;32m    233\u001b[0m     \u001b[1;32mdef\u001b[0m \u001b[0m_isApprovedOrOwner\u001b[0m\u001b[1;33m(\u001b[0m\u001b[0mself\u001b[0m\u001b[1;33m,\u001b[0m \u001b[0mspender\u001b[0m\u001b[1;33m,\u001b[0m \u001b[0mnftId\u001b[0m\u001b[1;33m)\u001b[0m\u001b[1;33m:\u001b[0m\u001b[1;33m\u001b[0m\u001b[1;33m\u001b[0m\u001b[0m\n\u001b[1;32m--> 234\u001b[1;33m         \u001b[1;32massert\u001b[0m \u001b[0mself\u001b[0m\u001b[1;33m.\u001b[0m\u001b[0m_exists\u001b[0m\u001b[1;33m(\u001b[0m\u001b[0mnftId\u001b[0m\u001b[1;33m)\u001b[0m\u001b[1;33m,\u001b[0m \u001b[1;34m\"ERC721: operator query for nonexistent token\"\u001b[0m\u001b[1;33m\u001b[0m\u001b[1;33m\u001b[0m\u001b[0m\n\u001b[0m\u001b[0;32m    235\u001b[0m         \u001b[0mowner\u001b[0m \u001b[1;33m=\u001b[0m \u001b[0mself\u001b[0m\u001b[1;33m.\u001b[0m\u001b[0mownerOf\u001b[0m\u001b[1;33m(\u001b[0m\u001b[0mnftId\u001b[0m\u001b[1;33m)\u001b[0m\u001b[1;33m\u001b[0m\u001b[1;33m\u001b[0m\u001b[0m\n\u001b[0;32m    236\u001b[0m         \u001b[0mprint\u001b[0m\u001b[1;33m(\u001b[0m\u001b[1;34mf'{spender=}, {nftId=}, {owner=}'\u001b[0m\u001b[1;33m)\u001b[0m\u001b[1;33m\u001b[0m\u001b[1;33m\u001b[0m\u001b[0m\n",
      "\u001b[1;31mAssertionError\u001b[0m: ERC721: operator query for nonexistent token"
     ]
    }
   ],
   "source": [
    "owner3.transferFrom(owner1.address,owner2.address,nft1)"
   ]
  },
  {
   "cell_type": "code",
   "execution_count": 19,
   "id": "5820d13a",
   "metadata": {},
   "outputs": [
    {
     "ename": "KeyError",
     "evalue": "None",
     "output_type": "error",
     "traceback": [
      "\u001b[1;31m---------------------------------------------------------------------------\u001b[0m",
      "\u001b[1;31mKeyError\u001b[0m                                  Traceback (most recent call last)",
      "\u001b[1;32m~\\AppData\\Local\\Temp/ipykernel_7716/313494972.py\u001b[0m in \u001b[0;36m<module>\u001b[1;34m\u001b[0m\n\u001b[1;32m----> 1\u001b[1;33m \u001b[0mowner1\u001b[0m \u001b[1;33m-\u001b[0m \u001b[0mnft1\u001b[0m\u001b[1;33m\u001b[0m\u001b[1;33m\u001b[0m\u001b[0m\n\u001b[0m",
      "\u001b[1;32m~\\AppData\\Local\\Temp/ipykernel_7716/2177205268.py\u001b[0m in \u001b[0;36m__sub__\u001b[1;34m(self, nft)\u001b[0m\n\u001b[0;32m     91\u001b[0m \u001b[1;33m\u001b[0m\u001b[0m\n\u001b[0;32m     92\u001b[0m     \u001b[1;32mdef\u001b[0m \u001b[0m__sub__\u001b[0m\u001b[1;33m(\u001b[0m\u001b[0mself\u001b[0m\u001b[1;33m,\u001b[0m \u001b[0mnft\u001b[0m\u001b[1;33m)\u001b[0m\u001b[1;33m:\u001b[0m\u001b[1;33m\u001b[0m\u001b[1;33m\u001b[0m\u001b[0m\n\u001b[1;32m---> 93\u001b[1;33m         \u001b[0mself\u001b[0m\u001b[1;33m.\u001b[0m\u001b[0mburn\u001b[0m\u001b[1;33m(\u001b[0m\u001b[0mnft\u001b[0m\u001b[1;33m)\u001b[0m\u001b[1;33m\u001b[0m\u001b[1;33m\u001b[0m\u001b[0m\n\u001b[0m\u001b[0;32m     94\u001b[0m \u001b[1;33m\u001b[0m\u001b[0m\n\u001b[0;32m     95\u001b[0m     \u001b[1;32mdef\u001b[0m \u001b[0m__contains__\u001b[0m\u001b[1;33m(\u001b[0m\u001b[0mself\u001b[0m\u001b[1;33m,\u001b[0m \u001b[0masset\u001b[0m\u001b[1;33m)\u001b[0m\u001b[1;33m:\u001b[0m\u001b[1;33m\u001b[0m\u001b[1;33m\u001b[0m\u001b[0m\n",
      "\u001b[1;32m~\\AppData\\Local\\Temp/ipykernel_7716/2177205268.py\u001b[0m in \u001b[0;36mburn\u001b[1;34m(self, nft)\u001b[0m\n\u001b[0;32m    145\u001b[0m         \u001b[0mself\u001b[0m\u001b[1;33m.\u001b[0m\u001b[0memit\u001b[0m\u001b[1;33m(\u001b[0m\u001b[1;34m'Burn'\u001b[0m\u001b[1;33m,\u001b[0m\u001b[0mnft\u001b[0m\u001b[1;33m.\u001b[0m\u001b[0mnftId\u001b[0m\u001b[1;33m,\u001b[0m\u001b[0mnft\u001b[0m\u001b[1;33m.\u001b[0m\u001b[0mcontractType\u001b[0m\u001b[1;33m,\u001b[0m\u001b[0mnft\u001b[0m\u001b[1;33m.\u001b[0m\u001b[0mcontractName\u001b[0m\u001b[1;33m)\u001b[0m\u001b[1;33m\u001b[0m\u001b[1;33m\u001b[0m\u001b[0m\n\u001b[0;32m    146\u001b[0m         \u001b[0mtheContract\u001b[0m \u001b[1;33m=\u001b[0m \u001b[0mself\u001b[0m\u001b[1;33m.\u001b[0m\u001b[0mgetContract\u001b[0m\u001b[1;33m(\u001b[0m\u001b[0mnft\u001b[0m\u001b[1;33m)\u001b[0m\u001b[1;33m\u001b[0m\u001b[1;33m\u001b[0m\u001b[0m\n\u001b[1;32m--> 147\u001b[1;33m         \u001b[0mglobals\u001b[0m\u001b[1;33m(\u001b[0m\u001b[1;33m)\u001b[0m\u001b[1;33m[\u001b[0m\u001b[0mtheContract\u001b[0m\u001b[1;33m]\u001b[0m\u001b[1;33m.\u001b[0m\u001b[0m_burn\u001b[0m\u001b[1;33m(\u001b[0m\u001b[0mnft\u001b[0m\u001b[1;33m.\u001b[0m\u001b[0mnftId\u001b[0m\u001b[1;33m,\u001b[0m\u001b[0mstr\u001b[0m\u001b[1;33m(\u001b[0m\u001b[0mself\u001b[0m\u001b[1;33m)\u001b[0m\u001b[1;33m)\u001b[0m\u001b[1;33m\u001b[0m\u001b[1;33m\u001b[0m\u001b[0m\n\u001b[0m\u001b[0;32m    148\u001b[0m \u001b[1;33m\u001b[0m\u001b[0m\n\u001b[0;32m    149\u001b[0m \u001b[1;32mclass\u001b[0m \u001b[0mEventLogger\u001b[0m\u001b[1;33m:\u001b[0m\u001b[1;33m\u001b[0m\u001b[1;33m\u001b[0m\u001b[0m\n",
      "\u001b[1;32m~\\AppData\\Local\\Temp/ipykernel_7716/2177205268.py\u001b[0m in \u001b[0;36m_burn\u001b[1;34m(self, nftId, msgSender)\u001b[0m\n\u001b[0;32m    299\u001b[0m         \u001b[0mself\u001b[0m\u001b[1;33m.\u001b[0m\u001b[0m_approve\u001b[0m\u001b[1;33m(\u001b[0m\u001b[1;32mNone\u001b[0m\u001b[1;33m,\u001b[0m \u001b[0mnftId\u001b[0m\u001b[1;33m)\u001b[0m\u001b[1;33m\u001b[0m\u001b[1;33m\u001b[0m\u001b[0m\n\u001b[0;32m    300\u001b[0m \u001b[1;33m\u001b[0m\u001b[0m\n\u001b[1;32m--> 301\u001b[1;33m         \u001b[0mself\u001b[0m\u001b[1;33m.\u001b[0m\u001b[0m_balances\u001b[0m\u001b[1;33m[\u001b[0m\u001b[0mowner\u001b[0m\u001b[1;33m]\u001b[0m \u001b[1;33m-=\u001b[0m \u001b[1;36m1\u001b[0m\u001b[1;33m\u001b[0m\u001b[1;33m\u001b[0m\u001b[0m\n\u001b[0m\u001b[0;32m    302\u001b[0m         \u001b[1;32mdel\u001b[0m \u001b[0mself\u001b[0m\u001b[1;33m.\u001b[0m\u001b[0m_owners\u001b[0m\u001b[1;33m[\u001b[0m\u001b[0mnftId\u001b[0m\u001b[1;33m]\u001b[0m\u001b[1;33m\u001b[0m\u001b[1;33m\u001b[0m\u001b[0m\n\u001b[0;32m    303\u001b[0m \u001b[1;33m\u001b[0m\u001b[0m\n",
      "\u001b[1;31mKeyError\u001b[0m: None"
     ]
    }
   ],
   "source": [
    "owner1 - nft1"
   ]
  },
  {
   "cell_type": "code",
   "execution_count": 20,
   "id": "8a3429be",
   "metadata": {},
   "outputs": [
    {
     "data": {
      "text/plain": [
       "[Nft(GgCoin, 1000, fdsa321, , CryptoPunks, ERC721)]"
      ]
     },
     "execution_count": 20,
     "metadata": {},
     "output_type": "execute_result"
    }
   ],
   "source": [
    "owner1.nfts"
   ]
  },
  {
   "cell_type": "code",
   "execution_count": null,
   "id": "73244b83",
   "metadata": {},
   "outputs": [],
   "source": []
  },
  {
   "cell_type": "code",
   "execution_count": null,
   "id": "2e814d55",
   "metadata": {},
   "outputs": [],
   "source": []
  },
  {
   "cell_type": "code",
   "execution_count": null,
   "id": "77f46749",
   "metadata": {},
   "outputs": [],
   "source": [
    "theERC721._owners"
   ]
  },
  {
   "cell_type": "code",
   "execution_count": 22,
   "id": "4f22ea9e",
   "metadata": {},
   "outputs": [],
   "source": [
    "owner2 + nft1"
   ]
  },
  {
   "cell_type": "code",
   "execution_count": 23,
   "id": "e5523a36",
   "metadata": {},
   "outputs": [
    {
     "data": {
      "text/plain": [
       "[Nft(JjCoin, 100, asdf123, , CryptoPunks, ERC721)]"
      ]
     },
     "execution_count": 23,
     "metadata": {},
     "output_type": "execute_result"
    }
   ],
   "source": [
    "owner2.nfts"
   ]
  },
  {
   "cell_type": "code",
   "execution_count": null,
   "id": "2501e562",
   "metadata": {},
   "outputs": [],
   "source": [
    "nft2"
   ]
  },
  {
   "cell_type": "code",
   "execution_count": 29,
   "id": "f1694314",
   "metadata": {},
   "outputs": [
    {
     "data": {
      "text/plain": [
       "{'GgCoin': '0XGg'}"
      ]
     },
     "execution_count": 29,
     "metadata": {},
     "output_type": "execute_result"
    }
   ],
   "source": [
    "theERC721._owners"
   ]
  },
  {
   "cell_type": "code",
   "execution_count": 28,
   "id": "0523abb4",
   "metadata": {},
   "outputs": [],
   "source": [
    "owner1 - nft1"
   ]
  },
  {
   "cell_type": "code",
   "execution_count": null,
   "id": "b33b46ae",
   "metadata": {},
   "outputs": [],
   "source": []
  },
  {
   "cell_type": "code",
   "execution_count": null,
   "id": "4a286bb6",
   "metadata": {},
   "outputs": [],
   "source": []
  },
  {
   "cell_type": "code",
   "execution_count": null,
   "id": "6c04af45",
   "metadata": {},
   "outputs": [],
   "source": []
  },
  {
   "cell_type": "code",
   "execution_count": null,
   "id": "a61af024",
   "metadata": {},
   "outputs": [],
   "source": []
  },
  {
   "cell_type": "code",
   "execution_count": null,
   "id": "81bad2ab",
   "metadata": {},
   "outputs": [],
   "source": []
  },
  {
   "cell_type": "code",
   "execution_count": null,
   "id": "32aba7b9",
   "metadata": {},
   "outputs": [],
   "source": []
  },
  {
   "cell_type": "code",
   "execution_count": null,
   "id": "18bc4306",
   "metadata": {},
   "outputs": [],
   "source": []
  },
  {
   "cell_type": "code",
   "execution_count": null,
   "id": "b345a36e",
   "metadata": {},
   "outputs": [],
   "source": []
  },
  {
   "cell_type": "code",
   "execution_count": null,
   "id": "be5aea7b",
   "metadata": {},
   "outputs": [],
   "source": []
  },
  {
   "cell_type": "code",
   "execution_count": null,
   "id": "0016dc65",
   "metadata": {},
   "outputs": [],
   "source": []
  },
  {
   "cell_type": "code",
   "execution_count": null,
   "id": "acd84084",
   "metadata": {},
   "outputs": [],
   "source": []
  },
  {
   "cell_type": "code",
   "execution_count": null,
   "id": "d571ba20",
   "metadata": {},
   "outputs": [],
   "source": []
  }
 ],
 "metadata": {
  "kernelspec": {
   "display_name": "Python 3 (ipykernel)",
   "language": "python",
   "name": "python3"
  },
  "language_info": {
   "codemirror_mode": {
    "name": "ipython",
    "version": 3
   },
   "file_extension": ".py",
   "mimetype": "text/x-python",
   "name": "python",
   "nbconvert_exporter": "python",
   "pygments_lexer": "ipython3",
   "version": "3.8.12"
  }
 },
 "nbformat": 4,
 "nbformat_minor": 5
}
