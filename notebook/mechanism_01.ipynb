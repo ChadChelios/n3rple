{
 "cells": [
  {
   "cell_type": "markdown",
   "id": "929d2825",
   "metadata": {},
   "source": [
    "# Mechanism\n",
    "\n",
    "1. A lender and borrower must both consent into the following contract\n",
    "2. The borrower wants to be able to lease a specific NFT for a predefined period of time\n",
    "3. Require that the lender owns the NFT\n",
    "4. In exchange for leasing out their NFT, the lender receives an initial lump sum payment\n",
    "5. The lender additionally requires collateral to be put up to prevent the borrower from rugging\n",
    "6. Require that the borrower has the initial sum and the collateral before proceeding\n",
    "7. If the borrower steals, sells, or loses the NFT or is otherwise unable to return it, the collateral is paid to the lender daily in high interest payments until the NFT is return or the collateral is depleted \n",
    "8. If the borrower returns the NFT before their agreed upon expiration, their collateral is returned and the contract is terminated\n"
   ]
  },
  {
   "cell_type": "markdown",
   "id": "d45b98e8",
   "metadata": {},
   "source": [
    "## Eth721 Functions\n",
    "\n",
    "\n",
    "balanceOf(owner)\n",
    "\n",
    "ownerOf(tokenId)\n",
    "\n",
    "safeTransferFrom(from, to, tokenId)\n",
    "\n",
    "transferFrom(from, to, tokenId)\n",
    "\n",
    "approve(to, tokenId)\n",
    "\n",
    "getApproved(tokenId)\n",
    "\n",
    "setApprovalForAll(operator, _approved)\n",
    "\n",
    "isApprovedForAll(owner, operator)\n",
    "\n",
    "safeTransferFrom(from, to, tokenId, data)"
   ]
  },
  {
   "cell_type": "code",
   "execution_count": 187,
   "id": "0cd84120",
   "metadata": {},
   "outputs": [],
   "source": [
    "from datetime import datetime"
   ]
  },
  {
   "cell_type": "code",
   "execution_count": 195,
   "id": "a2b58f0c",
   "metadata": {},
   "outputs": [
    {
     "data": {
      "text/plain": [
       "'2022/06/03 20:06:49'"
      ]
     },
     "execution_count": 195,
     "metadata": {},
     "output_type": "execute_result"
    }
   ],
   "source": [
    "datetime.now().strftime('%Y/%M/%d %H:%M:%S')"
   ]
  },
  {
   "cell_type": "code",
   "execution_count": null,
   "id": "1d3ebcc8",
   "metadata": {},
   "outputs": [],
   "source": []
  },
  {
   "cell_type": "code",
   "execution_count": 267,
   "id": "1703874e",
   "metadata": {
    "code_folding": []
   },
   "outputs": [],
   "source": [
    "# nftCollection = {}\n",
    "\n",
    "class Eth:\n",
    "    def __init__(self, amount):\n",
    "        self.amount = amount\n",
    "    \n",
    "    def __add__(self, *args):\n",
    "        eth = set(filter(lambda x: type(x).__name__ == \"Eth\",args))\n",
    "        self.amount += sum(_.amount for _ in eth)\n",
    "        return self\n",
    "    \n",
    "    def __sub__(self, *args):\n",
    "        eth = set(filter(lambda x: type(x).__name__ == \"Eth\",args))\n",
    "        self.amount -= sum(_.amount for _ in eth)\n",
    "        return self\n",
    "    \n",
    "    def __neg__(self):\n",
    "        return -self.amount\n",
    "    \n",
    "    def __pos__(self):\n",
    "        return +self.amount\n",
    "    \n",
    "    def __repr__(self):\n",
    "        return f\"\\N{greek capital letter xi}{self.amount}\"\n",
    "    \n",
    "\n",
    "class Nft:\n",
    "    def __init__(self, id, price, data, owner):\n",
    "        self.id = id\n",
    "        self.price = price\n",
    "        self.data = data\n",
    "        self.owner = owner\n",
    "    \n",
    "    def __repr__(self):\n",
    "        return f\"Nft({self.id}, {self.price}, {self.data}, {self.owner})\"\n",
    "        \n",
    "class Owner:\n",
    "    def __init__(self, address, *args):\n",
    "        self.address = '0X' + address # this is a string, not a hash\n",
    "        self.nfts = set(filter(lambda x: type(x).__name__ == \"Nft\",args))\n",
    "        ethSet = set(filter(lambda x: type(x).__name__ == \"Eth\",args))\n",
    "        self.eth = Eth(0)\n",
    "        for ethEl in ethSet:\n",
    "            self.eth += ethEl\n",
    "        self.isLender = False\n",
    "        self.isOwed = 0.\n",
    "        self.isBorrower = False\n",
    "        self.owes = 0.\n",
    "        global theEventLogger\n",
    "        theEventLogger += self\n",
    "        self.eventLogger = theEventLogger\n",
    "    \n",
    "    @property\n",
    "    def assets(self):\n",
    "        return self.nfts.union({self.eth})\n",
    "    \n",
    "    def __add__(self, *args):\n",
    "        nfts = set(filter(lambda x: type(x).__name__ == \"Nft\",args))\n",
    "        ethSet = set(filter(lambda x: type(x).__name__ == \"Eth\",args))\n",
    "        for nft in nfts:\n",
    "            nft.owner = self.address\n",
    "        self.nfts = self.nfts.union(nfts)\n",
    "        for ethEl in ethSet:\n",
    "            self.eth += ethEl\n",
    "        return self\n",
    "    \n",
    "    def __sub__(self, *args):\n",
    "        nfts = set(filter(lambda x: type(x).__name__ == \"Nft\",args))\n",
    "        ethSet = set(filter(lambda x: type(x).__name__ == \"Eth\",args))\n",
    "        self.nfts -= nfts\n",
    "        for ethEl in ethSet:\n",
    "            self.eth -= ethEl\n",
    "        return self\n",
    "    \n",
    "    def __contains__(self, asset):\n",
    "        return asset in self.assets\n",
    "    \n",
    "    def __repr__(self):\n",
    "        return f\"Owner({self.address},{self.assets},{self.isLender},{self.isOwed},{self.isBorrower},{self.owes})\"\n",
    "    \n",
    "    def __str__(self):\n",
    "        return f\"Owner({self.address})\"\n",
    "    \n",
    "    def approve(self, to, nftId):\n",
    "        self.eventLogger.emit('Approve',str(self),'ERC721')\n",
    "        pass\n",
    "\n",
    "class EventLogger:\n",
    "    def __init__(self):\n",
    "        self.log = {}\n",
    "        self.activeClasses = []\n",
    "    \n",
    "    def __iadd__(self, c):\n",
    "        if str(c) not in self.activeClasses:\n",
    "            self.activeClasses.append(str(c))\n",
    "    \n",
    "    @property\n",
    "    def events(self):\n",
    "        return list(self.log.keys())\n",
    "    \n",
    "    def emit(self,eventName,eventCaller,eventResponder,*args):\n",
    "        #time, #type of event, #parameters\n",
    "        currTime = datetime.now().strftime('%Y/%M/%d %H:%M:%S')\n",
    "        result = [eventName, eventCaller, eventResponder, currTime, *args]\n",
    "        if eventName not in self.log.keys():\n",
    "            self.log[eventName] = [result]\n",
    "        else:\n",
    "            self.log[eventName] += [result]\n",
    "        responder\n",
    "        if eventResponder in self.activeClasses:\n",
    "            ERC721.approve(to, nftId, msgSender)\n",
    "theEventLogger = EventLogger()\n",
    "\n",
    "class ERC721:\n",
    "    def __init__(self, name_, symbol_):\n",
    "        self._name = name_\n",
    "        self._symbol = symbol_\n",
    "        self._owners = {}\n",
    "        self._balances = {}\n",
    "        self._tokenApprovals = {}\n",
    "        self._operatorApprovals = {}\n",
    "        global theEventLogger\n",
    "        theEventLogger += self\n",
    "        self.eventLogger = theEventLogger\n",
    "    \n",
    "    def _exists(self, nftId):\n",
    "        return nftId in self._owners.keys()\n",
    "    \n",
    "    def balanceOf(self, ownerAddress):\n",
    "        if ownerAddress in self._balances.keys():\n",
    "            return self._balances[ownerAddress]\n",
    "        return None\n",
    "    \n",
    "    def ownerOf(self, nftId):\n",
    "        if self._exists:\n",
    "            return self._owners[nftId]\n",
    "        return None\n",
    "    \n",
    "    def _approve(self, to, nftId):\n",
    "        self._tokenApprovals[nftId] = to\n",
    "        self.eventLogger(\"Approval\",self.ownerOf(nftId), to, nftId)\n",
    "    \n",
    "    def approve(self, to, nftId, msgSender):\n",
    "        owner = self.ownerOf(nftId)\n",
    "        assert owner != to, f\"Owner address of nftId {nftId} must be different than the approved address.\"\n",
    "        assert msgSender == owner | isApprovedForAll(owner, msgSender), \"Error\"\n",
    "        self._approve(to, nftId)\n",
    "\n",
    "class N3RP:\n",
    "    def __init__(self, contractId, lender, lentAsset, beginPeriod, endPeriod):\n",
    "        if lentAsset not in lender:\n",
    "            raise ValueError(f\"Lent asset {lentAsset} not in lender {lender}.\")\n",
    "        self.contractId = contractId\n",
    "        self.lender = lender\n",
    "        self.lentAsset = lentAsset\n",
    "        self.beginPeriod = beginPeriod\n",
    "        self.endPeriod = endPeriod\n",
    "        self.borrower = None\n",
    "        self.collateralAsset = None\n",
    "    \n",
    "    def __call__(self, borrower, collateralAsset):\n",
    "        if collateralAsset not in borrower:\n",
    "            raise ValueError(f\"Collateral asset {collateralAsset} not in borrower {borrower}.\")\n",
    "        \n",
    "        #Is the collateral an nft? Or straight up eth.\n",
    "        \n",
    "        self.lender.isLender = True\n",
    "        self.lender.isOwed = lentAsset.price\n",
    "        \n",
    "        self.borrower = borrower\n",
    "        self.collateralAsset = collateralAssert\n",
    "        self.borrower.isBorrower = True\n",
    "        self.borrower.owes = self.lentAsset.price\n",
    "        \n",
    "        "
   ]
  },
  {
   "cell_type": "code",
   "execution_count": 240,
   "id": "14b24d73",
   "metadata": {},
   "outputs": [],
   "source": [
    "el = EventLogger()"
   ]
  },
  {
   "cell_type": "code",
   "execution_count": 243,
   "id": "9273df3f",
   "metadata": {},
   "outputs": [],
   "source": [
    "el.emit('EventA','This is the text of EventA',123,'a')\n"
   ]
  },
  {
   "cell_type": "code",
   "execution_count": 247,
   "id": "cc3b2b81",
   "metadata": {},
   "outputs": [
    {
     "data": {
      "text/plain": [
       "['EventA',\n",
       " '2022/18/03 20:18:06',\n",
       " 'Hello! This is another bit of text for EventA',\n",
       " 999,\n",
       " 'asdf']"
      ]
     },
     "execution_count": 247,
     "metadata": {},
     "output_type": "execute_result"
    }
   ],
   "source": [
    "el.log['Approve'][]"
   ]
  },
  {
   "cell_type": "code",
   "execution_count": 238,
   "id": "db1855bc",
   "metadata": {},
   "outputs": [
    {
     "data": {
      "text/plain": [
       "['EventA', 'EventB']"
      ]
     },
     "execution_count": 238,
     "metadata": {},
     "output_type": "execute_result"
    }
   ],
   "source": [
    "el.events"
   ]
  },
  {
   "cell_type": "code",
   "execution_count": 235,
   "id": "d9facbd8",
   "metadata": {},
   "outputs": [
    {
     "data": {
      "text/plain": [
       "{'EventA': [['EventA',\n",
       "   '2022/14/03 20:14:22',\n",
       "   'This is the text of EventA',\n",
       "   123,\n",
       "   'a']],\n",
       " 'EventB': [['EventB',\n",
       "   '2022/16/03 20:16:51',\n",
       "   'This is the text of EventB',\n",
       "   456,\n",
       "   'z']]}"
      ]
     },
     "execution_count": 235,
     "metadata": {},
     "output_type": "execute_result"
    }
   ],
   "source": [
    "el.log"
   ]
  },
  {
   "cell_type": "code",
   "execution_count": 271,
   "id": "2cd6dc82",
   "metadata": {},
   "outputs": [
    {
     "ename": "TypeError",
     "evalue": "unsupported operand type(s) for +=: 'NoneType' and 'Owner'",
     "output_type": "error",
     "traceback": [
      "\u001b[1;31m---------------------------------------------------------------------------\u001b[0m",
      "\u001b[1;31mTypeError\u001b[0m                                 Traceback (most recent call last)",
      "\u001b[1;32m~\\AppData\\Local\\Temp/ipykernel_22088/245615611.py\u001b[0m in \u001b[0;36m<module>\u001b[1;34m\u001b[0m\n\u001b[1;32m----> 1\u001b[1;33m \u001b[0mstr\u001b[0m\u001b[1;33m(\u001b[0m\u001b[0mOwner\u001b[0m\u001b[1;33m(\u001b[0m\u001b[1;34m'asdf'\u001b[0m\u001b[1;33m)\u001b[0m\u001b[1;33m)\u001b[0m\u001b[1;33m\u001b[0m\u001b[1;33m\u001b[0m\u001b[0m\n\u001b[0m",
      "\u001b[1;32m~\\AppData\\Local\\Temp/ipykernel_22088/3815854309.py\u001b[0m in \u001b[0;36m__init__\u001b[1;34m(self, address, *args)\u001b[0m\n\u001b[0;32m     48\u001b[0m         \u001b[0mself\u001b[0m\u001b[1;33m.\u001b[0m\u001b[0mowes\u001b[0m \u001b[1;33m=\u001b[0m \u001b[1;36m0.\u001b[0m\u001b[1;33m\u001b[0m\u001b[1;33m\u001b[0m\u001b[0m\n\u001b[0;32m     49\u001b[0m         \u001b[1;32mglobal\u001b[0m \u001b[0mtheEventLogger\u001b[0m\u001b[1;33m\u001b[0m\u001b[1;33m\u001b[0m\u001b[0m\n\u001b[1;32m---> 50\u001b[1;33m         \u001b[0mtheEventLogger\u001b[0m \u001b[1;33m+=\u001b[0m \u001b[0mself\u001b[0m\u001b[1;33m\u001b[0m\u001b[1;33m\u001b[0m\u001b[0m\n\u001b[0m\u001b[0;32m     51\u001b[0m         \u001b[0mself\u001b[0m\u001b[1;33m.\u001b[0m\u001b[0meventLogger\u001b[0m \u001b[1;33m=\u001b[0m \u001b[0mtheEventLogger\u001b[0m\u001b[1;33m\u001b[0m\u001b[1;33m\u001b[0m\u001b[0m\n\u001b[0;32m     52\u001b[0m \u001b[1;33m\u001b[0m\u001b[0m\n",
      "\u001b[1;31mTypeError\u001b[0m: unsupported operand type(s) for +=: 'NoneType' and 'Owner'"
     ]
    }
   ],
   "source": [
    "str(Owner('asdf'))"
   ]
  },
  {
   "cell_type": "code",
   "execution_count": 272,
   "id": "107b0577",
   "metadata": {},
   "outputs": [],
   "source": [
    "theEventLogger"
   ]
  },
  {
   "cell_type": "code",
   "execution_count": 263,
   "id": "e5b0b299",
   "metadata": {},
   "outputs": [],
   "source": [
    "theEventLogger = EventLogger()"
   ]
  },
  {
   "cell_type": "code",
   "execution_count": null,
   "id": "dfdb60a9",
   "metadata": {},
   "outputs": [],
   "source": []
  },
  {
   "cell_type": "code",
   "execution_count": null,
   "id": "2d14c41f",
   "metadata": {},
   "outputs": [],
   "source": []
  },
  {
   "cell_type": "code",
   "execution_count": null,
   "id": "ade03827",
   "metadata": {},
   "outputs": [],
   "source": []
  },
  {
   "cell_type": "code",
   "execution_count": null,
   "id": "4d1ba192",
   "metadata": {},
   "outputs": [],
   "source": []
  },
  {
   "cell_type": "code",
   "execution_count": null,
   "id": "de87e64d",
   "metadata": {},
   "outputs": [],
   "source": []
  },
  {
   "cell_type": "code",
   "execution_count": 157,
   "id": "f04ce68f",
   "metadata": {},
   "outputs": [
    {
     "data": {
      "text/plain": [
       "Owner(Jackson,{Ξ0, Nft(Jj, 100, asdf123, Jackson)},False,0.0,False,0.0)"
      ]
     },
     "execution_count": 157,
     "metadata": {},
     "output_type": "execute_result"
    }
   ],
   "source": [
    "nft1 = Nft('Jj', 100, 'asdf123', 'Jackson')\n",
    "nft2 = Nft('Gg', 1000, 'fdsa321', 'Grant')\n",
    "# ((Owner(\"Jackson\",nft1) + nft2) - nft1).assets\n",
    "Owner(\"Jackson\",nft1)# + nft2"
   ]
  },
  {
   "cell_type": "code",
   "execution_count": 171,
   "id": "593f3b7b",
   "metadata": {},
   "outputs": [
    {
     "data": {
      "text/plain": [
       "{Nft(DegenApe, 15, someData, 0XmyAddress)}"
      ]
     },
     "execution_count": 171,
     "metadata": {},
     "output_type": "execute_result"
    }
   ],
   "source": [
    "nft1 = Nft('DegenApe', 15, 'someData','')\n",
    "(Owner(\"0XmyAddress\") + nft1).nfts"
   ]
  },
  {
   "cell_type": "code",
   "execution_count": null,
   "id": "eae6d657",
   "metadata": {},
   "outputs": [],
   "source": [
    "function approve(address to, uint256 tokenId) public virtual override {\n",
    "        address owner = ERC721.ownerOf(tokenId);\n",
    "        require(to != owner, \"ERC721: approval to current owner\");\n",
    "\n",
    "        require(\n",
    "            _msgSender() == owner || isApprovedForAll(owner, _msgSender()),\n",
    "            \"ERC721: approve caller is not owner nor approved for all\"\n",
    "        );\n",
    "\n",
    "        _approve(to, tokenId);\n",
    "    }"
   ]
  },
  {
   "cell_type": "code",
   "execution_count": null,
   "id": "d3b256aa",
   "metadata": {},
   "outputs": [],
   "source": []
  },
  {
   "cell_type": "code",
   "execution_count": null,
   "id": "e8f5abc7",
   "metadata": {},
   "outputs": [],
   "source": []
  },
  {
   "cell_type": "code",
   "execution_count": null,
   "id": "01924a2a",
   "metadata": {},
   "outputs": [],
   "source": []
  },
  {
   "cell_type": "code",
   "execution_count": null,
   "id": "1b0af0ec",
   "metadata": {},
   "outputs": [],
   "source": []
  },
  {
   "cell_type": "code",
   "execution_count": 132,
   "id": "09102d74",
   "metadata": {},
   "outputs": [
    {
     "data": {
      "text/plain": [
       "10"
      ]
     },
     "execution_count": 132,
     "metadata": {},
     "output_type": "execute_result"
    }
   ],
   "source": [
    "sum(_ for _ in np.arange(5))"
   ]
  },
  {
   "cell_type": "code",
   "execution_count": 137,
   "id": "92b85f68",
   "metadata": {},
   "outputs": [
    {
     "ename": "TypeError",
     "evalue": "unsupported operand type(s) for +: 'int' and 'Eth'",
     "output_type": "error",
     "traceback": [
      "\u001b[1;31m---------------------------------------------------------------------------\u001b[0m",
      "\u001b[1;31mTypeError\u001b[0m                                 Traceback (most recent call last)",
      "\u001b[1;32m~\\AppData\\Local\\Temp/ipykernel_22088/3951627025.py\u001b[0m in \u001b[0;36m<module>\u001b[1;34m\u001b[0m\n\u001b[1;32m----> 1\u001b[1;33m \u001b[0msum\u001b[0m\u001b[1;33m(\u001b[0m\u001b[0m_\u001b[0m \u001b[1;32mfor\u001b[0m \u001b[0m_\u001b[0m \u001b[1;32min\u001b[0m \u001b[1;33m[\u001b[0m\u001b[0mEth\u001b[0m\u001b[1;33m(\u001b[0m\u001b[1;36m5\u001b[0m\u001b[1;33m)\u001b[0m\u001b[1;33m,\u001b[0m \u001b[0mEth\u001b[0m\u001b[1;33m(\u001b[0m\u001b[1;36m10\u001b[0m\u001b[1;33m)\u001b[0m\u001b[1;33m]\u001b[0m\u001b[1;33m)\u001b[0m\u001b[1;33m\u001b[0m\u001b[1;33m\u001b[0m\u001b[0m\n\u001b[0m",
      "\u001b[1;31mTypeError\u001b[0m: unsupported operand type(s) for +: 'int' and 'Eth'"
     ]
    }
   ],
   "source": [
    "sum(_ for _ in [Eth(5), Eth(10)])"
   ]
  },
  {
   "cell_type": "code",
   "execution_count": null,
   "id": "378fff85",
   "metadata": {},
   "outputs": [],
   "source": []
  },
  {
   "cell_type": "code",
   "execution_count": null,
   "id": "42760da0",
   "metadata": {},
   "outputs": [],
   "source": []
  },
  {
   "cell_type": "code",
   "execution_count": 45,
   "id": "7086a7cc",
   "metadata": {},
   "outputs": [],
   "source": [
    "asdf.nfts"
   ]
  },
  {
   "cell_type": "code",
   "execution_count": 43,
   "id": "4ba18497",
   "metadata": {},
   "outputs": [
    {
     "ename": "AttributeError",
     "evalue": "'NoneType' object has no attribute 'add'",
     "output_type": "error",
     "traceback": [
      "\u001b[1;31m---------------------------------------------------------------------------\u001b[0m",
      "\u001b[1;31mAttributeError\u001b[0m                            Traceback (most recent call last)",
      "\u001b[1;32m~\\AppData\\Local\\Temp/ipykernel_22088/2864889645.py\u001b[0m in \u001b[0;36m<module>\u001b[1;34m\u001b[0m\n\u001b[1;32m----> 1\u001b[1;33m \u001b[1;33m(\u001b[0m\u001b[0masdf\u001b[0m \u001b[1;33m+\u001b[0m \u001b[0mnft2\u001b[0m\u001b[1;33m)\u001b[0m\u001b[1;33m.\u001b[0m\u001b[0mnfts\u001b[0m\u001b[1;33m\u001b[0m\u001b[1;33m\u001b[0m\u001b[0m\n\u001b[0m",
      "\u001b[1;32m~\\AppData\\Local\\Temp/ipykernel_22088/3329115354.py\u001b[0m in \u001b[0;36m__add__\u001b[1;34m(self, nft)\u001b[0m\n\u001b[0;32m     20\u001b[0m     \u001b[1;31m#    return self\u001b[0m\u001b[1;33m\u001b[0m\u001b[1;33m\u001b[0m\u001b[1;33m\u001b[0m\u001b[0m\n\u001b[0;32m     21\u001b[0m     \u001b[1;32mdef\u001b[0m \u001b[0m__add__\u001b[0m\u001b[1;33m(\u001b[0m\u001b[0mself\u001b[0m\u001b[1;33m,\u001b[0m \u001b[0mnft\u001b[0m\u001b[1;33m)\u001b[0m\u001b[1;33m:\u001b[0m\u001b[1;33m\u001b[0m\u001b[1;33m\u001b[0m\u001b[0m\n\u001b[1;32m---> 22\u001b[1;33m         \u001b[0mself\u001b[0m\u001b[1;33m.\u001b[0m\u001b[0mnfts\u001b[0m \u001b[1;33m=\u001b[0m \u001b[0mself\u001b[0m\u001b[1;33m.\u001b[0m\u001b[0mnfts\u001b[0m\u001b[1;33m.\u001b[0m\u001b[0madd\u001b[0m\u001b[1;33m(\u001b[0m\u001b[0mnft\u001b[0m\u001b[1;33m)\u001b[0m\u001b[1;33m\u001b[0m\u001b[1;33m\u001b[0m\u001b[0m\n\u001b[0m\u001b[0;32m     23\u001b[0m         \u001b[1;32mreturn\u001b[0m \u001b[0mself\u001b[0m\u001b[1;33m\u001b[0m\u001b[1;33m\u001b[0m\u001b[0m\n\u001b[0;32m     24\u001b[0m \u001b[1;33m\u001b[0m\u001b[0m\n",
      "\u001b[1;31mAttributeError\u001b[0m: 'NoneType' object has no attribute 'add'"
     ]
    }
   ],
   "source": [
    "(asdf + nft2).nfts"
   ]
  },
  {
   "cell_type": "code",
   "execution_count": 96,
   "id": "11f77a73",
   "metadata": {},
   "outputs": [
    {
     "name": "stdout",
     "output_type": "stream",
     "text": [
      "Ξ\n"
     ]
    }
   ],
   "source": [
    "print('\\N{greek capital letter xi}')\n"
   ]
  },
  {
   "cell_type": "code",
   "execution_count": null,
   "id": "bc9c293e",
   "metadata": {},
   "outputs": [],
   "source": []
  },
  {
   "cell_type": "code",
   "execution_count": null,
   "id": "a8a29dce",
   "metadata": {},
   "outputs": [],
   "source": []
  },
  {
   "cell_type": "code",
   "execution_count": 19,
   "id": "deabc1dd",
   "metadata": {},
   "outputs": [
    {
     "data": {
      "text/plain": [
       "'Nft'"
      ]
     },
     "execution_count": 19,
     "metadata": {},
     "output_type": "execute_result"
    }
   ],
   "source": [
    "type(nft1).__name__"
   ]
  },
  {
   "cell_type": "code",
   "execution_count": 24,
   "id": "169f9001",
   "metadata": {},
   "outputs": [
    {
     "data": {
      "text/plain": [
       "{1, 2, 3, 6, 7, 8}"
      ]
     },
     "execution_count": 24,
     "metadata": {},
     "output_type": "execute_result"
    }
   ],
   "source": [
    "{1,2,3}.union({6,7,8})"
   ]
  },
  {
   "cell_type": "code",
   "execution_count": null,
   "id": "a973659f",
   "metadata": {},
   "outputs": [],
   "source": []
  },
  {
   "cell_type": "code",
   "execution_count": null,
   "id": "1dcf6835",
   "metadata": {},
   "outputs": [],
   "source": []
  },
  {
   "cell_type": "code",
   "execution_count": null,
   "id": "a89de651",
   "metadata": {},
   "outputs": [],
   "source": []
  },
  {
   "cell_type": "code",
   "execution_count": null,
   "id": "5a5d4f90",
   "metadata": {},
   "outputs": [],
   "source": []
  },
  {
   "cell_type": "code",
   "execution_count": null,
   "id": "54fba499",
   "metadata": {},
   "outputs": [],
   "source": []
  },
  {
   "cell_type": "code",
   "execution_count": null,
   "id": "40165822",
   "metadata": {},
   "outputs": [],
   "source": []
  },
  {
   "cell_type": "code",
   "execution_count": null,
   "id": "7eddf0be",
   "metadata": {},
   "outputs": [],
   "source": []
  },
  {
   "cell_type": "code",
   "execution_count": null,
   "id": "97d12bb2",
   "metadata": {},
   "outputs": [],
   "source": []
  },
  {
   "cell_type": "code",
   "execution_count": null,
   "id": "46162968",
   "metadata": {},
   "outputs": [],
   "source": []
  }
 ],
 "metadata": {
  "kernelspec": {
   "display_name": "Python 3 (ipykernel)",
   "language": "python",
   "name": "python3"
  },
  "language_info": {
   "codemirror_mode": {
    "name": "ipython",
    "version": 3
   },
   "file_extension": ".py",
   "mimetype": "text/x-python",
   "name": "python",
   "nbconvert_exporter": "python",
   "pygments_lexer": "ipython3",
   "version": "3.8.12"
  }
 },
 "nbformat": 4,
 "nbformat_minor": 5
}
